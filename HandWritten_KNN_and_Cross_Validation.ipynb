{
 "cells": [
  {
   "cell_type": "code",
   "execution_count": 1,
   "id": "c4deb0a2",
   "metadata": {},
   "outputs": [],
   "source": [
    "# read data function\n",
    "import gzip\n",
    "import os\n",
    "import struct\n",
    "import numpy as np\n",
    "import gzip\n",
    "\n",
    "def load_mnist_train(path, kind='train'): \n",
    "    labels_path = os.path.join(path,'%s-labels-idx1-ubyte.gz'% kind)\n",
    "    images_path = os.path.join(path,'%s-images-idx3-ubyte.gz'% kind)\n",
    "    with gzip.open(labels_path, 'rb') as lbpath:\n",
    "        magic, n = struct.unpack('>II',lbpath.read(8))\n",
    "        labels = np.fromstring(lbpath.read(),dtype=np.uint8)\n",
    "    with gzip.open(images_path, 'rb') as imgpath:\n",
    "        magic, num, rows, cols = struct.unpack('>IIII',imgpath.read(16))\n",
    "        images = np.fromstring(imgpath.read(),dtype=np.uint8).reshape(len(labels), 784)\n",
    "    return images, labels\n",
    "\n",
    "def load_mnist_test(path, kind='t10k'): \n",
    "    labels_path = os.path.join(path,'%s-labels-idx1-ubyte.gz'% kind)\n",
    "    images_path = os.path.join(path,'%s-images-idx3-ubyte.gz'% kind)\n",
    "    with gzip.open(labels_path, 'rb') as lbpath:\n",
    "        magic, n = struct.unpack('>II',lbpath.read(8))\n",
    "        labels = np.fromstring(lbpath.read(),dtype=np.uint8)\n",
    "    with gzip.open(images_path, 'rb') as imgpath:\n",
    "        magic, num, rows, cols = struct.unpack('>IIII',imgpath.read(16))\n",
    "        images = np.fromstring(imgpath.read(),dtype=np.uint8).reshape(len(labels), 784)\n",
    "    return images, labels\n"
   ]
  },
  {
   "cell_type": "code",
   "execution_count": 2,
   "id": "5ed945df",
   "metadata": {
    "scrolled": true
   },
   "outputs": [
    {
     "name": "stderr",
     "output_type": "stream",
     "text": [
      "C:\\Users\\Lenovo\\AppData\\Local\\Temp\\ipykernel_23764\\2577834973.py:13: DeprecationWarning: The binary mode of fromstring is deprecated, as it behaves surprisingly on unicode inputs. Use frombuffer instead\n",
      "  labels = np.fromstring(lbpath.read(),dtype=np.uint8)\n",
      "C:\\Users\\Lenovo\\AppData\\Local\\Temp\\ipykernel_23764\\2577834973.py:16: DeprecationWarning: The binary mode of fromstring is deprecated, as it behaves surprisingly on unicode inputs. Use frombuffer instead\n",
      "  images = np.fromstring(imgpath.read(),dtype=np.uint8).reshape(len(labels), 784)\n"
     ]
    },
    {
     "name": "stdout",
     "output_type": "stream",
     "text": [
      "Label 0: Count = 97\n",
      "Label 1: Count = 116\n",
      "Label 2: Count = 99\n",
      "Label 3: Count = 93\n",
      "Label 4: Count = 105\n",
      "Label 5: Count = 92\n",
      "Label 6: Count = 94\n",
      "Label 7: Count = 117\n",
      "Label 8: Count = 87\n",
      "Label 9: Count = 100\n"
     ]
    },
    {
     "name": "stderr",
     "output_type": "stream",
     "text": [
      "C:\\Users\\Lenovo\\AppData\\Local\\Temp\\ipykernel_23764\\2577834973.py:24: DeprecationWarning: The binary mode of fromstring is deprecated, as it behaves surprisingly on unicode inputs. Use frombuffer instead\n",
      "  labels = np.fromstring(lbpath.read(),dtype=np.uint8)\n",
      "C:\\Users\\Lenovo\\AppData\\Local\\Temp\\ipykernel_23764\\2577834973.py:27: DeprecationWarning: The binary mode of fromstring is deprecated, as it behaves surprisingly on unicode inputs. Use frombuffer instead\n",
      "  images = np.fromstring(imgpath.read(),dtype=np.uint8).reshape(len(labels), 784)\n"
     ]
    }
   ],
   "source": [
    "X_train,y_train = load_mnist_train('./data', kind='train')\n",
    "X_test, y_test = load_mnist_test('./data', kind='t10k')\n",
    "X_train = X_train[:1000]\n",
    "y_train = y_train[:1000]\n",
    "X_test = X_test[:1000]\n",
    "y_test = y_test[:1000]\n",
    "\n",
    "label_counts = np.bincount(y_train)\n",
    "for label, count in enumerate(label_counts):\n",
    "    print(f\"Label {label}: Count = {count}\")"
   ]
  },
  {
   "cell_type": "code",
   "execution_count": 3,
   "id": "ccad3cb4",
   "metadata": {},
   "outputs": [
    {
     "name": "stdout",
     "output_type": "stream",
     "text": [
      "Label 0: Count = 78\n",
      "Label 1: Count = 96\n",
      "Label 2: Count = 77\n",
      "Label 3: Count = 67\n",
      "Label 4: Count = 90\n",
      "Label 5: Count = 75\n",
      "Label 6: Count = 71\n",
      "Label 7: Count = 93\n",
      "Label 8: Count = 74\n",
      "Label 9: Count = 79\n"
     ]
    }
   ],
   "source": [
    "from sklearn.model_selection import train_test_split\n",
    "# Check if the data file already exists\n",
    "try:\n",
    "    data = np.load('mnist_data.npz', allow_pickle=True)\n",
    "    X_small = data['X_small']\n",
    "    y_small = data['y_small']\n",
    "#     print(y_small)\n",
    "except FileNotFoundError:\n",
    "    # If the data file does not exist, download and save the data\n",
    "    X, y = fetch_openml('mnist_784', data_home='./', return_X_y=True)\n",
    "    X = X / 255.\n",
    "    X_small = X[:1000]\n",
    "    y_small = y[:1000]\n",
    "    # Save the data\n",
    "    np.savez('mnist_data.npz', X_small=X_small, y_small=y_small)\n",
    "\n",
    "    \n",
    "X_small_norm = np.zeros(X_small.shape)\n",
    "for i in range(X_small.shape[0]):\n",
    "    X_small_norm[i, :] = (X_small[i] - np.mean(X_small[i])) / np.std(X_small[i])\n",
    "    \n",
    "X_train, X_test, y_train, y_test = train_test_split(X_small_norm, y_small, test_size=0.2, random_state=42)\n",
    "y_train = y_train.astype(int)\n",
    "label_counts = np.bincount(y_train)\n",
    "for label, count in enumerate(label_counts):\n",
    "    print(f\"Label {label}: Count = {count}\")"
   ]
  },
  {
   "cell_type": "code",
   "execution_count": 4,
   "id": "c362290c",
   "metadata": {},
   "outputs": [],
   "source": [
    "def myknn_one(sample, tr_feats, tr_labels, k):\n",
    "    distances = np.sqrt(np.sum((tr_feats - sample) ** 2, axis=1))\n",
    "    nearest_indices = np.argsort(distances)[:k]\n",
    "    nearest_labels = tr_labels[nearest_indices]\n",
    "    unique_labels, label_counts = np.unique(nearest_labels, return_counts=True)\n",
    "    if len(nearest_labels) == 0:\n",
    "        predicted_label = tr_labels[0]\n",
    "    else:\n",
    "        unique_labels, label_counts = np.unique(nearest_labels, return_counts=True)\n",
    "        predicted_label = unique_labels[np.argmax(label_counts)]\n",
    "    return predicted_label\n",
    "\n",
    "def myknn(samples, tr_feats, tr_labels, k):\n",
    "    predictions = []\n",
    "\n",
    "    for sample in samples:\n",
    "#         print(sample)\n",
    "        sample = sample.astype(float)\n",
    "#         print(sample)\n",
    "#         distances = np.sqrt(np.sum((tr_feats - sample) ** 2, axis=1))\n",
    "#         nearest_indices = np.argsort(distances)[:k]\n",
    "\n",
    "        distances = np.linalg.norm(tr_feats - sample, axis=1)\n",
    "        nearest_indices = np.argpartition(distances, k)[:k]\n",
    "        nearest_labels = tr_labels[nearest_indices]\n",
    "\n",
    "        unique_labels, label_counts = np.unique(nearest_labels, return_counts=True)\n",
    "        predicted_label = unique_labels[np.argmax(label_counts)]\n",
    "    \n",
    "        predictions.append(predicted_label)\n",
    "\n",
    "    return np.array(predictions)\n"
   ]
  },
  {
   "cell_type": "code",
   "execution_count": 5,
   "id": "930f084a",
   "metadata": {},
   "outputs": [
    {
     "name": "stdout",
     "output_type": "stream",
     "text": [
      "Accuracy: 90.00%\n"
     ]
    },
    {
     "data": {
      "image/png": "[encoded data removed]",
      "text/plain": [
       "<Figure size 432x288 with 10 Axes>"
      ]
     },
     "metadata": {
      "needs_background": "light"
     },
     "output_type": "display_data"
    },
    {
     "data": {
      "image/png": "[encoded data removed]",
      "text/plain": [
       "<Figure size 432x288 with 10 Axes>"
      ]
     },
     "metadata": {
      "needs_background": "light"
     },
     "output_type": "display_data"
    }
   ],
   "source": [
    "import matplotlib.pyplot as plt\n",
    "\n",
    "# sample = X_test[8]\n",
    "\n",
    "# sample_image = sample.reshape(28, 28)\n",
    "\n",
    "# plt.imshow(sample_image, cmap='gray')\n",
    "# plt.title(f\"Sample Label: {y_test[8]}\")  \n",
    "# plt.show()\n",
    "\n",
    "# k_value = 5\n",
    "# predicted_label = myknn(sample, X_train, y_train, k_value)\n",
    "# print(\"Predicted Label:\", predicted_label)\n",
    "\n",
    "from sklearn.metrics import accuracy_score\n",
    "\n",
    "k_value = 1\n",
    "predicted_labels = myknn(X_test, X_train, y_train, k_value)\n",
    "y_test = y_test.astype(int)\n",
    "predicted_labels = predicted_labels.astype(int)\n",
    "accuracy = accuracy_score(y_test, predicted_labels)\n",
    "print(f\"Accuracy: {accuracy * 100:.2f}%\")\n",
    "\n",
    "for i in range(10):\n",
    "    sample = X_test[i]\n",
    "    sample_image = sample.reshape(28, 28)\n",
    "    predicted_label = predicted_labels[i]\n",
    "    \n",
    "    plt.subplot(2, 5, i + 1)\n",
    "    plt.imshow(sample_image, cmap='gray')\n",
    "    plt.title(f\"True: {y_test[i]}\\nPred: {predicted_label}\")\n",
    "\n",
    "plt.tight_layout()\n",
    "plt.show()\n",
    "\n",
    "incorrect_indices = np.where(y_test != predicted_labels)[0][:10]\n",
    "for i in range(10):\n",
    "    incorrect_index = incorrect_indices[i]\n",
    "    sample = X_test[incorrect_index]\n",
    "    sample_image = sample.reshape(28, 28)\n",
    "    predicted_label = predicted_labels[incorrect_index]\n",
    "\n",
    "    plt.subplot(2, 5, i + 1)\n",
    "    plt.imshow(sample_image, cmap='gray')\n",
    "    plt.title(f\"True: {y_test[incorrect_index]}\\nPred: {predicted_label}\")\n",
    "\n",
    "plt.tight_layout()\n",
    "plt.show()\n"
   ]
  },
  {
   "cell_type": "code",
   "execution_count": 6,
   "id": "4b5e0fc1",
   "metadata": {},
   "outputs": [
    {
     "name": "stdout",
     "output_type": "stream",
     "text": [
      "Accuracy using KNeighborsClassifier: 87.50%\n"
     ]
    }
   ],
   "source": [
    "from sklearn.neighbors import KNeighborsClassifier\n",
    "from sklearn.metrics import accuracy_score\n",
    "import matplotlib.pyplot as plt\n",
    "\n",
    "k_value = 5\n",
    "knn_model = KNeighborsClassifier(n_neighbors=k_value)\n",
    "\n",
    "knn_model.fit(X_train, y_train)\n",
    "\n",
    "predicted_labels = knn_model.predict(X_test)\n",
    "\n",
    "accuracy = accuracy_score(y_test, predicted_labels)\n",
    "print(f\"Accuracy using KNeighborsClassifier: {accuracy * 100:.2f}%\")\n"
   ]
  },
  {
   "cell_type": "code",
   "execution_count": 7,
   "id": "eaf4b523",
   "metadata": {},
   "outputs": [],
   "source": [
    "from tqdm import tqdm  \n",
    "\n",
    "def cross_validation(X, y, k_values, num_folds=5):\n",
    "    fold_size = len(X) // num_folds\n",
    "    error_rates = []\n",
    "\n",
    "    for k in k_values:\n",
    "        total_error = 0\n",
    "\n",
    "        for fold in tqdm(range(num_folds), desc=f'k = {k}'):\n",
    "            val_start = fold * fold_size\n",
    "            val_end = (fold + 1) * fold_size\n",
    "            val_data, val_labels = X[val_start:val_end], y[val_start:val_end]\n",
    "\n",
    "            if len(val_data) == 0:\n",
    "                continue\n",
    "\n",
    "            train_data = np.concatenate([X[:val_start], X[val_end:]])\n",
    "            train_labels = np.concatenate([y[:val_start], y[val_end:]])\n",
    "\n",
    "            errors = 0\n",
    "            for i in tqdm(range(len(val_data)), desc=f'i = {fold}'):\n",
    "                predicted_label = myknn_one(val_data[i], train_data, train_labels, k)\n",
    "                if predicted_label != val_labels[i]:\n",
    "                    errors += 1\n",
    "\n",
    "            error_rate = errors / len(val_data)\n",
    "            total_error += error_rate\n",
    "\n",
    "        average_error_rate = total_error / num_folds\n",
    "        error_rates.append(average_error_rate)\n",
    "\n",
    "    return error_rates\n"
   ]
  },
  {
   "cell_type": "code",
   "execution_count": 8,
   "id": "ca5852f8",
   "metadata": {
    "scrolled": true
   },
   "outputs": [
    {
     "name": "stderr",
     "output_type": "stream",
     "text": [
      "k = 1:   0%|                                                                                     | 0/5 [00:00<?, ?it/s]\n",
      "i = 0:   0%|                                                                                   | 0/160 [00:00<?, ?it/s]\u001b[A\n",
      "i = 0:  27%|███████████████████▌                                                     | 43/160 [00:00<00:00, 417.85it/s]\u001b[A\n",
      "i = 0:  53%|██████████████████████████████████████▊                                  | 85/160 [00:00<00:00, 412.12it/s]\u001b[A\n",
      "i = 0: 100%|████████████████████████████████████████████████████████████████████████| 160/160 [00:00<00:00, 445.40it/s]\u001b[A\n",
      "k = 1:  20%|███████████████▍                                                             | 1/5 [00:00<00:01,  2.74it/s]\n",
      "i = 1:   0%|                                                                                   | 0/160 [00:00<?, ?it/s]\u001b[A\n",
      "i = 1:  28%|████████████████████                                                     | 44/160 [00:00<00:00, 422.95it/s]\u001b[A\n",
      "i = 1:  56%|████████████████████████████████████████▌                                | 89/160 [00:00<00:00, 433.49it/s]\u001b[A\n",
      "i = 1: 100%|████████████████████████████████████████████████████████████████████████| 160/160 [00:00<00:00, 456.41it/s]\u001b[A\n",
      "k = 1:  40%|██████████████████████████████▊                                              | 2/5 [00:00<00:01,  2.78it/s]\n",
      "i = 2:   0%|                                                                                   | 0/160 [00:00<?, ?it/s]\u001b[A\n",
      "i = 2:  26%|███████████████████▏                                                     | 42/160 [00:00<00:00, 413.34it/s]\u001b[A\n",
      "i = 2:  58%|██████████████████████████████████████████▍                              | 93/160 [00:00<00:00, 464.24it/s]\u001b[A\n",
      "i = 2: 100%|████████████████████████████████████████████████████████████████████████| 160/160 [00:00<00:00, 482.11it/s]\u001b[A\n",
      "k = 1:  60%|██████████████████████████████████████████████▏                              | 3/5 [00:01<00:00,  2.87it/s]\n",
      "i = 3:   0%|                                                                                   | 0/160 [00:00<?, ?it/s]\u001b[A\n",
      "i = 3:  41%|██████████████████████████████                                           | 66/160 [00:00<00:00, 602.96it/s]\u001b[A\n",
      "i = 3: 100%|████████████████████████████████████████████████████████████████████████| 160/160 [00:00<00:00, 575.82it/s]\u001b[A\n",
      "k = 1:  80%|█████████████████████████████████████████████████████████████▌               | 4/5 [00:01<00:00,  3.11it/s]\n",
      "i = 4:   0%|                                                                                   | 0/160 [00:00<?, ?it/s]\u001b[A\n",
      "i = 4:  38%|███████████████████████████▊                                             | 61/160 [00:00<00:00, 552.54it/s]\u001b[A\n",
      "i = 4: 100%|████████████████████████████████████████████████████████████████████████| 160/160 [00:00<00:00, 595.84it/s]\u001b[A\n",
      "k = 1: 100%|█████████████████████████████████████████████████████████████████████████████| 5/5 [00:01<00:00,  3.12it/s]\n",
      "k = 2:   0%|                                                                                     | 0/5 [00:00<?, ?it/s]\n",
      "i = 0:   0%|                                                                                   | 0/160 [00:00<?, ?it/s]\u001b[A\n",
      "i = 0:  42%|██████████████████████████████▌                                          | 67/160 [00:00<00:00, 614.43it/s]\u001b[A\n",
      "i = 0: 100%|████████████████████████████████████████████████████████████████████████| 160/160 [00:00<00:00, 554.27it/s]\u001b[A\n",
      "k = 2:  20%|███████████████▍                                                             | 1/5 [00:00<00:01,  3.40it/s]\n",
      "i = 1:   0%|                                                                                   | 0/160 [00:00<?, ?it/s]\u001b[A\n",
      "i = 1:  40%|█████████████████████████████▏                                           | 64/160 [00:00<00:00, 622.74it/s]\u001b[A\n",
      "i = 1: 100%|████████████████████████████████████████████████████████████████████████| 160/160 [00:00<00:00, 540.38it/s]\u001b[A\n",
      "k = 2:  40%|██████████████████████████████▊                                              | 2/5 [00:00<00:00,  3.34it/s]\n",
      "i = 2:   0%|                                                                                   | 0/160 [00:00<?, ?it/s]\u001b[A\n",
      "i = 2:  47%|██████████████████████████████████▏                                      | 75/160 [00:00<00:00, 660.70it/s]\u001b[A\n",
      "i = 2: 100%|████████████████████████████████████████████████████████████████████████| 160/160 [00:00<00:00, 621.72it/s]\u001b[A\n",
      "k = 2:  60%|██████████████████████████████████████████████▏                              | 3/5 [00:00<00:00,  3.52it/s]\n",
      "i = 3:   0%|                                                                                   | 0/160 [00:00<?, ?it/s]\u001b[A\n",
      "i = 3:  29%|█████████████████████▍                                                   | 47/160 [00:00<00:00, 461.18it/s]\u001b[A\n",
      "i = 3: 100%|████████████████████████████████████████████████████████████████████████| 160/160 [00:00<00:00, 544.35it/s]\u001b[A\n",
      "k = 2:  80%|█████████████████████████████████████████████████████████████▌               | 4/5 [00:01<00:00,  3.46it/s]\n",
      "i = 4:   0%|                                                                                   | 0/160 [00:00<?, ?it/s]\u001b[A\n",
      "i = 4:  32%|███████████████████████▎                                                 | 51/160 [00:00<00:00, 509.82it/s]\u001b[A\n",
      "i = 4: 100%|████████████████████████████████████████████████████████████████████████| 160/160 [00:00<00:00, 603.36it/s]\u001b[A\n",
      "k = 2: 100%|█████████████████████████████████████████████████████████████████████████████| 5/5 [00:01<00:00,  3.50it/s]\n",
      "k = 3:   0%|                                                                                     | 0/5 [00:00<?, ?it/s]\n",
      "i = 0:   0%|                                                                                   | 0/160 [00:00<?, ?it/s]\u001b[A\n",
      "i = 0:  41%|█████████████████████████████▋                                           | 65/160 [00:00<00:00, 599.51it/s]\u001b[A\n",
      "i = 0: 100%|████████████████████████████████████████████████████████████████████████| 160/160 [00:00<00:00, 614.07it/s]\u001b[A\n",
      "k = 3:  20%|███████████████▍                                                             | 1/5 [00:00<00:01,  3.44it/s]\n",
      "i = 1:   0%|                                                                                   | 0/160 [00:00<?, ?it/s]\u001b[A\n",
      "i = 1:  37%|██████████████████████████▉                                              | 59/160 [00:00<00:00, 582.31it/s]\u001b[A\n",
      "i = 1: 100%|████████████████████████████████████████████████████████████████████████| 160/160 [00:00<00:00, 576.71it/s]\u001b[A\n",
      "k = 3:  40%|██████████████████████████████▊                                              | 2/5 [00:00<00:00,  3.52it/s]\n",
      "i = 2:   0%|                                                                                   | 0/160 [00:00<?, ?it/s]\u001b[A\n",
      "i = 2:  38%|███████████████████████████▍                                             | 60/160 [00:00<00:00, 582.42it/s]\u001b[A\n",
      "i = 2: 100%|████████████████████████████████████████████████████████████████████████| 160/160 [00:00<00:00, 566.01it/s]\u001b[A\n",
      "k = 3:  60%|██████████████████████████████████████████████▏                              | 3/5 [00:00<00:00,  3.50it/s]\n",
      "i = 3:   0%|                                                                                   | 0/160 [00:00<?, ?it/s]\u001b[A\n",
      "i = 3:  48%|███████████████████████████████████▏                                     | 77/160 [00:00<00:00, 667.29it/s]\u001b[A\n",
      "i = 3: 100%|████████████████████████████████████████████████████████████████████████| 160/160 [00:00<00:00, 636.71it/s]\u001b[A\n",
      "k = 3:  80%|█████████████████████████████████████████████████████████████▌               | 4/5 [00:01<00:00,  3.65it/s]\n",
      "i = 4:   0%|                                                                                   | 0/160 [00:00<?, ?it/s]\u001b[A\n",
      "i = 4:  44%|███████████████████████████████▉                                         | 70/160 [00:00<00:00, 614.27it/s]\u001b[A\n",
      "i = 4: 100%|████████████████████████████████████████████████████████████████████████| 160/160 [00:00<00:00, 615.19it/s]\u001b[A\n",
      "k = 3: 100%|█████████████████████████████████████████████████████████████████████████████| 5/5 [00:01<00:00,  3.61it/s]\n",
      "k = 4:   0%|                                                                                     | 0/5 [00:00<?, ?it/s]\n"
     ]
    },
    {
     "name": "stderr",
     "output_type": "stream",
     "text": [
      "i = 0:   0%|                                                                                   | 0/160 [00:00<?, ?it/s]\u001b[A\n",
      "i = 0:  42%|██████████████████████████████▌                                          | 67/160 [00:00<00:00, 660.00it/s]\u001b[A\n",
      "i = 0: 100%|████████████████████████████████████████████████████████████████████████| 160/160 [00:00<00:00, 637.05it/s]\u001b[A\n",
      "k = 4:  20%|███████████████▍                                                             | 1/5 [00:00<00:01,  3.84it/s]\n",
      "i = 1:   0%|                                                                                   | 0/160 [00:00<?, ?it/s]\u001b[A\n",
      "i = 1:  39%|████████████████████████████▋                                            | 63/160 [00:00<00:00, 605.99it/s]\u001b[A\n",
      "i = 1: 100%|████████████████████████████████████████████████████████████████████████| 160/160 [00:00<00:00, 623.98it/s]\u001b[A\n",
      "k = 4:  40%|██████████████████████████████▊                                              | 2/5 [00:00<00:00,  3.76it/s]\n",
      "i = 2:   0%|                                                                                   | 0/160 [00:00<?, ?it/s]\u001b[A\n",
      "i = 2:  41%|██████████████████████████████                                           | 66/160 [00:00<00:00, 595.97it/s]\u001b[A\n",
      "i = 2: 100%|████████████████████████████████████████████████████████████████████████| 160/160 [00:00<00:00, 587.00it/s]\u001b[A\n",
      "k = 4:  60%|██████████████████████████████████████████████▏                              | 3/5 [00:00<00:00,  3.64it/s]\n",
      "i = 3:   0%|                                                                                   | 0/160 [00:00<?, ?it/s]\u001b[A\n",
      "i = 3:  29%|████████████████████▉                                                    | 46/160 [00:00<00:00, 452.03it/s]\u001b[A\n",
      "i = 3:  57%|█████████████████████████████████████████▉                               | 92/160 [00:00<00:00, 445.69it/s]\u001b[A\n",
      "i = 3: 100%|████████████████████████████████████████████████████████████████████████| 160/160 [00:00<00:00, 492.30it/s]\u001b[A\n",
      "k = 4:  80%|█████████████████████████████████████████████████████████████▌               | 4/5 [00:01<00:00,  3.39it/s]\n",
      "i = 4:   0%|                                                                                   | 0/160 [00:00<?, ?it/s]\u001b[A\n",
      "i = 4:  36%|██████████████████████████                                               | 57/160 [00:00<00:00, 558.49it/s]\u001b[A\n",
      "i = 4: 100%|████████████████████████████████████████████████████████████████████████| 160/160 [00:00<00:00, 541.17it/s]\u001b[A\n",
      "k = 4: 100%|█████████████████████████████████████████████████████████████████████████████| 5/5 [00:01<00:00,  3.46it/s]\n",
      "k = 5:   0%|                                                                                     | 0/5 [00:00<?, ?it/s]\n",
      "i = 0:   0%|                                                                                   | 0/160 [00:00<?, ?it/s]\u001b[A\n",
      "i = 0:  35%|█████████████████████████▌                                               | 56/160 [00:00<00:00, 557.76it/s]\u001b[A\n",
      "i = 0: 100%|████████████████████████████████████████████████████████████████████████| 160/160 [00:00<00:00, 545.51it/s]\u001b[A\n",
      "k = 5:  20%|███████████████▍                                                             | 1/5 [00:00<00:01,  3.37it/s]\n",
      "i = 1:   0%|                                                                                   | 0/160 [00:00<?, ?it/s]\u001b[A\n",
      "i = 1:  36%|██████████████████████████▍                                              | 58/160 [00:00<00:00, 577.89it/s]\u001b[A\n",
      "i = 1: 100%|████████████████████████████████████████████████████████████████████████| 160/160 [00:00<00:00, 578.23it/s]\u001b[A\n",
      "k = 5:  40%|██████████████████████████████▊                                              | 2/5 [00:00<00:00,  3.47it/s]\n",
      "i = 2:   0%|                                                                                   | 0/160 [00:00<?, ?it/s]\u001b[A\n",
      "i = 2:  41%|██████████████████████████████                                           | 66/160 [00:00<00:00, 580.14it/s]\u001b[A\n",
      "i = 2: 100%|████████████████████████████████████████████████████████████████████████| 160/160 [00:00<00:00, 561.03it/s]\u001b[A\n",
      "k = 5:  60%|██████████████████████████████████████████████▏                              | 3/5 [00:00<00:00,  3.47it/s]\n",
      "i = 3:   0%|                                                                                   | 0/160 [00:00<?, ?it/s]\u001b[A\n",
      "i = 3:  43%|███████████████████████████████▍                                         | 69/160 [00:00<00:00, 600.63it/s]\u001b[A\n",
      "i = 3: 100%|████████████████████████████████████████████████████████████████████████| 160/160 [00:00<00:00, 635.16it/s]\u001b[A\n",
      "k = 5:  80%|█████████████████████████████████████████████████████████████▌               | 4/5 [00:01<00:00,  3.65it/s]\n",
      "i = 4:   0%|                                                                                   | 0/160 [00:00<?, ?it/s]\u001b[A\n",
      "i = 4:  43%|███████████████████████████████▍                                         | 69/160 [00:00<00:00, 602.66it/s]\u001b[A\n",
      "i = 4: 100%|████████████████████████████████████████████████████████████████████████| 160/160 [00:00<00:00, 600.95it/s]\u001b[A\n",
      "k = 5: 100%|█████████████████████████████████████████████████████████████████████████████| 5/5 [00:01<00:00,  3.58it/s]\n",
      "k = 6:   0%|                                                                                     | 0/5 [00:00<?, ?it/s]\n",
      "i = 0:   0%|                                                                                   | 0/160 [00:00<?, ?it/s]\u001b[A\n",
      "i = 0:  44%|████████████████████████████████▍                                        | 71/160 [00:00<00:00, 646.30it/s]\u001b[A\n",
      "i = 0: 100%|████████████████████████████████████████████████████████████████████████| 160/160 [00:00<00:00, 641.14it/s]\u001b[A\n",
      "k = 6:  20%|███████████████▍                                                             | 1/5 [00:00<00:01,  3.93it/s]\n",
      "i = 1:   0%|                                                                                   | 0/160 [00:00<?, ?it/s]\u001b[A\n",
      "i = 1:  39%|████████████████████████████▋                                            | 63/160 [00:00<00:00, 607.68it/s]\u001b[A\n",
      "i = 1: 100%|████████████████████████████████████████████████████████████████████████| 160/160 [00:00<00:00, 631.65it/s]\u001b[A\n",
      "k = 6:  40%|██████████████████████████████▊                                              | 2/5 [00:00<00:00,  3.87it/s]\n",
      "i = 2:   0%|                                                                                   | 0/160 [00:00<?, ?it/s]\u001b[A\n",
      "i = 2:  46%|█████████████████████████████████▎                                       | 73/160 [00:00<00:00, 645.78it/s]\u001b[A\n",
      "i = 2: 100%|████████████████████████████████████████████████████████████████████████| 160/160 [00:00<00:00, 616.16it/s]\u001b[A\n",
      "k = 6:  60%|██████████████████████████████████████████████▏                              | 3/5 [00:00<00:00,  3.77it/s]\n",
      "i = 3:   0%|                                                                                   | 0/160 [00:00<?, ?it/s]\u001b[A\n",
      "i = 3:  32%|███████████████████████▎                                                 | 51/160 [00:00<00:00, 497.86it/s]\u001b[A\n",
      "i = 3:  66%|███████████████████████████████████████████████▋                        | 106/160 [00:00<00:00, 519.04it/s]\u001b[A\n",
      "i = 3: 100%|████████████████████████████████████████████████████████████████████████| 160/160 [00:00<00:00, 520.31it/s]\u001b[A\n",
      "k = 6:  80%|█████████████████████████████████████████████████████████████▌               | 4/5 [00:01<00:00,  3.51it/s]\n",
      "i = 4:   0%|                                                                                   | 0/160 [00:00<?, ?it/s]\u001b[A\n",
      "i = 4:  35%|█████████████████████████▌                                               | 56/160 [00:00<00:00, 554.74it/s]\u001b[A\n",
      "i = 4: 100%|████████████████████████████████████████████████████████████████████████| 160/160 [00:00<00:00, 559.77it/s]\u001b[A\n",
      "k = 6: 100%|█████████████████████████████████████████████████████████████████████████████| 5/5 [00:01<00:00,  3.59it/s]\n",
      "k = 7:   0%|                                                                                     | 0/5 [00:00<?, ?it/s]\n",
      "i = 0:   0%|                                                                                   | 0/160 [00:00<?, ?it/s]\u001b[A\n",
      "i = 0:  40%|█████████████████████████████▏                                           | 64/160 [00:00<00:00, 603.67it/s]\u001b[A\n"
     ]
    },
    {
     "name": "stderr",
     "output_type": "stream",
     "text": [
      "i = 0: 100%|████████████████████████████████████████████████████████████████████████| 160/160 [00:00<00:00, 630.85it/s]\u001b[A\n",
      "k = 7:  20%|███████████████▍                                                             | 1/5 [00:00<00:01,  3.91it/s]\n",
      "i = 1:   0%|                                                                                   | 0/160 [00:00<?, ?it/s]\u001b[A\n",
      "i = 1:  42%|███████████████████████████████                                          | 68/160 [00:00<00:00, 606.39it/s]\u001b[A\n",
      "i = 1: 100%|████████████████████████████████████████████████████████████████████████| 160/160 [00:00<00:00, 536.87it/s]\u001b[A\n",
      "k = 7:  40%|██████████████████████████████▊                                              | 2/5 [00:00<00:00,  3.45it/s]\n",
      "i = 2:   0%|                                                                                   | 0/160 [00:00<?, ?it/s]\u001b[A\n",
      "i = 2:  33%|████████████████████████▏                                                | 53/160 [00:00<00:00, 519.42it/s]\u001b[A\n",
      "i = 2: 100%|████████████████████████████████████████████████████████████████████████| 160/160 [00:00<00:00, 536.46it/s]\u001b[A\n",
      "k = 7:  60%|██████████████████████████████████████████████▏                              | 3/5 [00:00<00:00,  3.38it/s]\n",
      "i = 3:   0%|                                                                                   | 0/160 [00:00<?, ?it/s]\u001b[A\n",
      "i = 3:  34%|████████████████████████▋                                                | 54/160 [00:00<00:00, 524.00it/s]\u001b[A\n",
      "i = 3: 100%|████████████████████████████████████████████████████████████████████████| 160/160 [00:00<00:00, 549.98it/s]\u001b[A\n",
      "k = 7:  80%|█████████████████████████████████████████████████████████████▌               | 4/5 [00:01<00:00,  3.39it/s]\n",
      "i = 4:   0%|                                                                                   | 0/160 [00:00<?, ?it/s]\u001b[A\n",
      "i = 4:  38%|███████████████████████████▊                                             | 61/160 [00:00<00:00, 586.84it/s]\u001b[A\n",
      "i = 4: 100%|████████████████████████████████████████████████████████████████████████| 160/160 [00:00<00:00, 627.41it/s]\u001b[A\n",
      "k = 7: 100%|█████████████████████████████████████████████████████████████████████████████| 5/5 [00:01<00:00,  3.51it/s]\n",
      "k = 8:   0%|                                                                                     | 0/5 [00:00<?, ?it/s]\n",
      "i = 0:   0%|                                                                                   | 0/160 [00:00<?, ?it/s]\u001b[A\n",
      "i = 0:  41%|██████████████████████████████                                           | 66/160 [00:00<00:00, 605.03it/s]\u001b[A\n",
      "i = 0: 100%|████████████████████████████████████████████████████████████████████████| 160/160 [00:00<00:00, 604.30it/s]\u001b[A\n",
      "k = 8:  20%|███████████████▍                                                             | 1/5 [00:00<00:01,  3.75it/s]\n",
      "i = 1:   0%|                                                                                   | 0/160 [00:00<?, ?it/s]\u001b[A\n",
      "i = 1:  44%|███████████████████████████████▉                                         | 70/160 [00:00<00:00, 618.62it/s]\u001b[A\n",
      "i = 1: 100%|████████████████████████████████████████████████████████████████████████| 160/160 [00:00<00:00, 625.63it/s]\u001b[A\n",
      "k = 8:  40%|██████████████████████████████▊                                              | 2/5 [00:00<00:00,  3.81it/s]\n",
      "i = 2:   0%|                                                                                   | 0/160 [00:00<?, ?it/s]\u001b[A\n",
      "i = 2:  43%|███████████████████████████████▍                                         | 69/160 [00:00<00:00, 666.67it/s]\u001b[A\n",
      "i = 2: 100%|████████████████████████████████████████████████████████████████████████| 160/160 [00:00<00:00, 591.99it/s]\u001b[A\n",
      "k = 8:  60%|██████████████████████████████████████████████▏                              | 3/5 [00:00<00:00,  3.69it/s]\n",
      "i = 3:   0%|                                                                                   | 0/160 [00:00<?, ?it/s]\u001b[A\n",
      "i = 3:  33%|████████████████████████▏                                                | 53/160 [00:00<00:00, 525.96it/s]\u001b[A\n",
      "i = 3: 100%|████████████████████████████████████████████████████████████████████████| 160/160 [00:00<00:00, 555.80it/s]\u001b[A\n",
      "k = 8:  80%|█████████████████████████████████████████████████████████████▌               | 4/5 [00:01<00:00,  3.59it/s]\n",
      "i = 4:   0%|                                                                                   | 0/160 [00:00<?, ?it/s]\u001b[A\n",
      "i = 4:  36%|██████████████████████████▍                                              | 58/160 [00:00<00:00, 557.67it/s]\u001b[A\n",
      "i = 4: 100%|████████████████████████████████████████████████████████████████████████| 160/160 [00:00<00:00, 576.45it/s]\u001b[A\n",
      "k = 8: 100%|█████████████████████████████████████████████████████████████████████████████| 5/5 [00:01<00:00,  3.62it/s]\n",
      "k = 9:   0%|                                                                                     | 0/5 [00:00<?, ?it/s]\n",
      "i = 0:   0%|                                                                                   | 0/160 [00:00<?, ?it/s]\u001b[A\n",
      "i = 0:  44%|███████████████████████████████▉                                         | 70/160 [00:00<00:00, 611.06it/s]\u001b[A\n",
      "i = 0: 100%|████████████████████████████████████████████████████████████████████████| 160/160 [00:00<00:00, 637.06it/s]\u001b[A\n",
      "k = 9:  20%|███████████████▍                                                             | 1/5 [00:00<00:01,  3.97it/s]\n",
      "i = 1:   0%|                                                                                   | 0/160 [00:00<?, ?it/s]\u001b[A\n",
      "i = 1:  43%|███████████████████████████████▍                                         | 69/160 [00:00<00:00, 651.56it/s]\u001b[A\n",
      "i = 1: 100%|████████████████████████████████████████████████████████████████████████| 160/160 [00:00<00:00, 664.91it/s]\u001b[A\n",
      "k = 9:  40%|██████████████████████████████▊                                              | 2/5 [00:00<00:00,  3.91it/s]\n",
      "i = 2:   0%|                                                                                   | 0/160 [00:00<?, ?it/s]\u001b[A\n",
      "i = 2:  43%|███████████████████████████████▍                                         | 69/160 [00:00<00:00, 609.38it/s]\u001b[A\n",
      "i = 2: 100%|████████████████████████████████████████████████████████████████████████| 160/160 [00:00<00:00, 640.57it/s]\u001b[A\n",
      "k = 9:  60%|██████████████████████████████████████████████▏                              | 3/5 [00:00<00:00,  3.86it/s]\n",
      "i = 3:   0%|                                                                                   | 0/160 [00:00<?, ?it/s]\u001b[A\n",
      "i = 3:  44%|████████████████████████████████▍                                        | 71/160 [00:00<00:00, 618.84it/s]\u001b[A\n",
      "i = 3: 100%|████████████████████████████████████████████████████████████████████████| 160/160 [00:00<00:00, 592.49it/s]\u001b[A\n",
      "k = 9:  80%|█████████████████████████████████████████████████████████████▌               | 4/5 [00:01<00:00,  3.71it/s]\n",
      "i = 4:   0%|                                                                                   | 0/160 [00:00<?, ?it/s]\u001b[A\n",
      "i = 4:  41%|█████████████████████████████▋                                           | 65/160 [00:00<00:00, 573.17it/s]\u001b[A\n",
      "i = 4: 100%|████████████████████████████████████████████████████████████████████████| 160/160 [00:00<00:00, 611.26it/s]\u001b[A\n",
      "k = 9: 100%|█████████████████████████████████████████████████████████████████████████████| 5/5 [00:01<00:00,  3.78it/s]\n"
     ]
    },
    {
     "data": {
      "image/png": "[encoded data removed]",
      "text/plain": [
       "<Figure size 432x288 with 1 Axes>"
      ]
     },
     "metadata": {
      "needs_background": "light"
     },
     "output_type": "display_data"
    }
   ],
   "source": [
    "k_values = list(range(1, 10))\n",
    "\n",
    "error_rates = cross_validation(X_train, y_train, k_values)\n",
    "\n",
    "plt.plot(k_values, error_rates, marker='o')\n",
    "plt.xlabel('k')\n",
    "plt.ylabel('Error Rate')\n",
    "plt.title('Error Rates vs. k in Cross Validation')\n",
    "plt.grid()\n",
    "plt.show()"
   ]
  },
  {
   "cell_type": "code",
   "execution_count": 9,
   "id": "8767100a",
   "metadata": {},
   "outputs": [
    {
     "name": "stdout",
     "output_type": "stream",
     "text": [
      "F1 Score for digit 0: 0.9268292682926829\n",
      "F1 Score for digit 1: 0.8695652173913044\n",
      "F1 Score for digit 2: 0.9047619047619048\n",
      "F1 Score for digit 3: 0.9615384615384616\n",
      "F1 Score for digit 4: 0.8235294117647058\n",
      "F1 Score for digit 5: 0.9411764705882353\n",
      "F1 Score for digit 6: 0.9333333333333332\n",
      "F1 Score for digit 7: 0.888888888888889\n",
      "F1 Score for digit 8: 0.8695652173913044\n",
      "F1 Score for digit 9: 0.8421052631578947\n",
      "Confusion Matrix:\n",
      "[[19  0  0  0  0  0  0  0  0  0]\n",
      " [ 0 20  0  0  0  0  0  0  0  0]\n",
      " [ 1  1 19  0  0  0  0  1  0  0]\n",
      " [ 0  0  0 25  0  1  0  0  0  0]\n",
      " [ 0  0  0  0 14  0  0  0  0  1]\n",
      " [ 0  0  1  0  0 16  0  0  0  0]\n",
      " [ 1  1  0  0  0  0 21  0  0  0]\n",
      " [ 0  3  0  0  1  0  0 20  0  0]\n",
      " [ 0  1  0  1  0  0  1  0 10  0]\n",
      " [ 1  0  0  0  4  0  0  0  0 16]]\n"
     ]
    }
   ],
   "source": [
    "from sklearn.metrics import f1_score, confusion_matrix\n",
    "\n",
    "best_k = 1\n",
    "\n",
    "predicted_labels = []\n",
    "for test_sample in X_test:\n",
    "    predicted_label = myknn_one(test_sample, X_train, y_train, best_k)\n",
    "    predicted_labels.append(predicted_label)\n",
    "\n",
    "f1_scores = []\n",
    "for digit in range(10):\n",
    "    true_labels = (y_test == digit).astype(int)\n",
    "    predicted_digit = (np.array(predicted_labels) == digit).astype(int)\n",
    "    f1 = f1_score(true_labels, predicted_digit)\n",
    "    f1_scores.append(f1)\n",
    "\n",
    "confusion = confusion_matrix(y_test, predicted_labels)\n",
    "\n",
    "for digit, f1 in enumerate(f1_scores):\n",
    "    print(f\"F1 Score for digit {digit}: {f1}\")\n",
    "\n",
    "print(\"Confusion Matrix:\")\n",
    "print(confusion)"
   ]
  },
  {
   "cell_type": "code",
   "execution_count": 10,
   "id": "3a4562b5",
   "metadata": {},
   "outputs": [],
   "source": [
    "from sklearn.neighbors import KNeighborsClassifier\n",
    "from sklearn.model_selection import cross_val_score\n",
    "from sklearn.metrics import f1_score, confusion_matrix"
   ]
  },
  {
   "cell_type": "code",
   "execution_count": 11,
   "id": "f5e6510b",
   "metadata": {},
   "outputs": [],
   "source": [
    "knn_model = KNeighborsClassifier()\n",
    "\n",
    "k_values = list(range(1, 10))\n",
    "\n",
    "f1_scores = []\n",
    "for k in k_values:\n",
    "    knn_model.n_neighbors = k\n",
    "    scores = cross_val_score(knn_model, X_train, y_train, cv=5, scoring='f1_macro')\n",
    "    f1_scores.append(scores.mean())\n"
   ]
  },
  {
   "cell_type": "code",
   "execution_count": 12,
   "id": "cafb1099",
   "metadata": {},
   "outputs": [
    {
     "name": "stdout",
     "output_type": "stream",
     "text": [
      "The best k value is: 1\n"
     ]
    }
   ],
   "source": [
    "best_k = k_values[np.argmax(f1_scores)]\n",
    "print(f\"The best k value is: {best_k}\")"
   ]
  },
  {
   "cell_type": "code",
   "execution_count": 13,
   "id": "9712088d",
   "metadata": {},
   "outputs": [],
   "source": [
    "best_knn_model = KNeighborsClassifier(n_neighbors=best_k)\n",
    "\n",
    "best_knn_model.fit(X_train, y_train)\n",
    "\n",
    "predicted_labels = best_knn_model.predict(X_test)"
   ]
  },
  {
   "cell_type": "code",
   "execution_count": 14,
   "id": "61188e62",
   "metadata": {},
   "outputs": [
    {
     "name": "stdout",
     "output_type": "stream",
     "text": [
      "F1 Score for digit 0: 0.9268292682926829\n",
      "F1 Score for digit 1: 0.8695652173913044\n",
      "F1 Score for digit 2: 0.9047619047619048\n",
      "F1 Score for digit 3: 0.9615384615384616\n",
      "F1 Score for digit 4: 0.8235294117647058\n",
      "F1 Score for digit 5: 0.9411764705882353\n",
      "F1 Score for digit 6: 0.9333333333333332\n",
      "F1 Score for digit 7: 0.888888888888889\n",
      "F1 Score for digit 8: 0.8695652173913044\n",
      "F1 Score for digit 9: 0.8421052631578947\n",
      "Confusion Matrix:\n",
      "[[19  0  0  0  0  0  0  0  0  0]\n",
      " [ 0 20  0  0  0  0  0  0  0  0]\n",
      " [ 1  1 19  0  0  0  0  1  0  0]\n",
      " [ 0  0  0 25  0  1  0  0  0  0]\n",
      " [ 0  0  0  0 14  0  0  0  0  1]\n",
      " [ 0  0  1  0  0 16  0  0  0  0]\n",
      " [ 1  1  0  0  0  0 21  0  0  0]\n",
      " [ 0  3  0  0  1  0  0 20  0  0]\n",
      " [ 0  1  0  1  0  0  1  0 10  0]\n",
      " [ 1  0  0  0  4  0  0  0  0 16]]\n"
     ]
    }
   ],
   "source": [
    "f1_scores = []\n",
    "for digit in range(10):\n",
    "    true_labels = (y_test == digit).astype(int)\n",
    "    predicted_digit = (predicted_labels == digit).astype(int)\n",
    "    f1 = f1_score(true_labels, predicted_digit)\n",
    "    f1_scores.append(f1)\n",
    "    print(f\"F1 Score for digit {digit}: {f1}\")\n",
    "\n",
    "confusion = confusion_matrix(y_test, predicted_labels)\n",
    "\n",
    "print(\"Confusion Matrix:\")\n",
    "print(confusion)\n"
   ]
  },
  {
   "cell_type": "code",
   "execution_count": null,
   "id": "5d1c714d",
   "metadata": {},
   "outputs": [],
   "source": []
  },
  {
   "cell_type": "code",
   "execution_count": null,
   "id": "695db98e",
   "metadata": {},
   "outputs": [],
   "source": []
  }
 ],
 "metadata": {
  "kernelspec": {
   "display_name": "Python 3 (ipykernel)",
   "language": "python",
   "name": "python3"
  },
  "language_info": {
   "codemirror_mode": {
    "name": "ipython",
    "version": 3
   },
   "file_extension": ".py",
   "mimetype": "text/x-python",
   "name": "python",
   "nbconvert_exporter": "python",
   "pygments_lexer": "ipython3",
   "version": "3.9.12"
  }
 },
 "nbformat": 4,
 "nbformat_minor": 5
}
