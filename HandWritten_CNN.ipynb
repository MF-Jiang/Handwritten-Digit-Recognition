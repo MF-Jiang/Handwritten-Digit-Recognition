{
 "cells": [
  {
   "cell_type": "code",
   "execution_count": 1,
   "id": "54ca5ca8",
   "metadata": {},
   "outputs": [],
   "source": [
    "import torch\n",
    "import torch.nn as nn"
   ]
  },
  {
   "cell_type": "code",
   "execution_count": 2,
   "id": "023e5b8d",
   "metadata": {},
   "outputs": [],
   "source": [
    "import torch.nn.functional as F\n",
    "import torch.optim as optim\n",
    "from torch.autograd import Variable\n",
    "class Net(nn.Module):\n",
    "    def __init__(self):\n",
    "        super(Net, self).__init__()\n",
    "        # 1 input image channel, 6 output channels, 3x3\n",
    "        # square convolution kernel\n",
    "        self.conv1 = nn.Conv2d(1, 6, 3)\n",
    "        self.conv2 = nn.Conv2d(6, 16, 3)\n",
    "        # 6*6 from image dimension\n",
    "        self.fc1 = nn.Linear(16 * 6 * 6, 120)\n",
    "        self.fc2 = nn.Linear(120, 84)\n",
    "        self.fc3 = nn.Linear(84, 10)\n",
    "    def forward(self, x):\n",
    "        # Max pooling over a (2, 2) window\n",
    "        x = F.max_pool2d(F.relu(self.conv1(x)), (2, 2))\n",
    "        x = F.max_pool2d(F.relu(self.conv2(x)), 2)\n",
    "        x = x.view(-1, self.num_flat_features(x))\n",
    "        x = F.relu(self.fc1(x))\n",
    "        x = F.relu(self.fc2(x))\n",
    "        x = self.fc3(x)\n",
    "        return x\n",
    "    def num_flat_features(self, x):\n",
    "        # all dimensions except the batch dimension\n",
    "        size = x.size()[1:] \n",
    "        num_features = 1\n",
    "        for s in size:\n",
    "            num_features *= s\n",
    "        return num_features"
   ]
  },
  {
   "cell_type": "code",
   "execution_count": 3,
   "id": "82e45064",
   "metadata": {},
   "outputs": [],
   "source": [
    "import matplotlib.pyplot as plt\n",
    "import numpy as np\n",
    "from sklearn.datasets import fetch_openml\n",
    "\n",
    "try:\n",
    "    data = np.load('mnist_data.npz', allow_pickle=True)\n",
    "    X_small = data['X_small']\n",
    "    y_small = data['y_small']\n",
    "except FileNotFoundError:\n",
    "    # If the data file does not exist, download and save the data\n",
    "    X, y = fetch_openml('mnist_784', data_home='./', return_X_y=True)\n",
    "    X = X / 255\n",
    "    X_small = X[:1000]\n",
    "    y_small = y[:1000]\n",
    "    # Save the data\n",
    "    np.savez('mnist_data.npz', X_small=X_small, y_small=y_small)\n",
    "\n",
    "X_small = X_small.reshape((-1, 1, 28,28))\n",
    "X_small = np.pad(X_small, ([0,0], [0,0], [2,2], [2,2]), mode='constant')\n",
    "X_training = Variable(torch.from_numpy(X_small.astype('float32')))\n",
    "y_training = Variable(torch.from_numpy(y_small.astype('int')))"
   ]
  },
  {
   "cell_type": "code",
   "execution_count": 4,
   "id": "9d38e11e",
   "metadata": {},
   "outputs": [
    {
     "name": "stdout",
     "output_type": "stream",
     "text": [
      "Epoch [1/10], Loss: 2.3027\n",
      "Epoch [2/10], Loss: 2.3011\n",
      "Epoch [3/10], Loss: 2.2996\n",
      "Epoch [4/10], Loss: 2.2981\n",
      "Epoch [5/10], Loss: 2.2966\n",
      "Epoch [6/10], Loss: 2.2952\n",
      "Epoch [7/10], Loss: 2.2937\n",
      "Epoch [8/10], Loss: 2.2922\n",
      "Epoch [9/10], Loss: 2.2905\n",
      "Epoch [10/10], Loss: 2.2888\n"
     ]
    }
   ],
   "source": [
    "y_training = y_training.long()\n",
    "net = Net()\n",
    "\n",
    "criterion = nn.CrossEntropyLoss()\n",
    "optimizer = optim.SGD(net.parameters(), lr=0.25)\n",
    "\n",
    "num_epochs = 10  \n",
    "\n",
    "for epoch in range(num_epochs):\n",
    "    outputs = net(X_training)\n",
    "    loss = criterion(outputs, y_training)\n",
    "\n",
    "    optimizer.zero_grad()\n",
    "    loss.backward()\n",
    "    optimizer.step()\n",
    "\n",
    "    print(f'Epoch [{epoch + 1}/{num_epochs}], Loss: {loss.item():.4f}')\n",
    "\n",
    "torch.save(net.state_dict(), 'lenet_model.pth')"
   ]
  },
  {
   "cell_type": "code",
   "execution_count": 12,
   "id": "d5f35b21",
   "metadata": {},
   "outputs": [
    {
     "name": "stdout",
     "output_type": "stream",
     "text": [
      "Test Accuracy: 11.60%\n"
     ]
    }
   ],
   "source": [
    "try:\n",
    "    data = np.load('mnist_data.npz', allow_pickle=True)\n",
    "    X_small = data['X_small']\n",
    "    y_small = data['y_small']\n",
    "except FileNotFoundError:\n",
    "    # If the data file does not exist, download and save the data\n",
    "    X, y = fetch_openml('mnist_784', data_home='./', return_X_y=True)\n",
    "    X = X / 255\n",
    "    X_small = X[:1000]\n",
    "    y_small = y[:1000]\n",
    "    # Save the data\n",
    "    np.savez('mnist_data.npz', X_small=X_small, y_small=y_small)\n",
    "\n",
    "X_small = X_small.reshape((-1, 1, 28,28))\n",
    "X_small = np.pad(X_small, ([0,0], [0,0], [2,2], [2,2]), mode='constant')\n",
    "X_test = Variable(torch.from_numpy(X_small.astype('float32')))\n",
    "y_test = Variable(torch.from_numpy(y_small.astype('int')))\n",
    "\n",
    "\n",
    "with torch.no_grad():\n",
    "    net.eval()\n",
    "    test_outputs = net(X_test)\n",
    "    _, predicted = torch.max(test_outputs, 1)\n",
    "    accuracy = (predicted == y_test).sum().item() / y_test.size(0)\n",
    "\n",
    "print(f'Test Accuracy: {accuracy * 100:.2f}%')"
   ]
  },
  {
   "cell_type": "code",
   "execution_count": null,
   "id": "660383a3",
   "metadata": {},
   "outputs": [],
   "source": []
  }
 ],
 "metadata": {
  "kernelspec": {
   "display_name": "Python 3 (ipykernel)",
   "language": "python",
   "name": "python3"
  },
  "language_info": {
   "codemirror_mode": {
    "name": "ipython",
    "version": 3
   },
   "file_extension": ".py",
   "mimetype": "text/x-python",
   "name": "python",
   "nbconvert_exporter": "python",
   "pygments_lexer": "ipython3",
   "version": "3.9.12"
  }
 },
 "nbformat": 4,
 "nbformat_minor": 5
}
